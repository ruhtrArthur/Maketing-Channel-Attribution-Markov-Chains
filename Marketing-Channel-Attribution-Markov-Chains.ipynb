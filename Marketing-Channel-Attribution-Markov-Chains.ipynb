{
 "cells": [
  {
   "cell_type": "code",
   "execution_count": 273,
   "metadata": {},
   "outputs": [],
   "source": [
    "import pandas as pd\n",
    "import numpy as np\n",
    "import seaborn as sns\n",
    "import matplotlib.pyplot as plt\n",
    "from collections import defaultdict"
   ]
  },
  {
   "cell_type": "code",
   "execution_count": 77,
   "metadata": {},
   "outputs": [],
   "source": [
    "attribution = pd.read_csv('attribution data.csv')\n",
    "attribution = attribution.sort_values(['cookie', 'time'], ascending=[False, True])\n",
    "attribution['visit_order'] = attribution.groupby('cookie').cumcount() + 1\n",
    "att_path = attribution.groupby('cookie')['channel'].aggregate(\n",
    "                                lambda x: x.unique().tolist()).reset_index()\n",
    "att_last_interact = attribution.drop_duplicates('cookie', keep='last')[['cookie', 'conversion']]\n",
    "att = pd.merge(att_path, att_last_interact, how='left', on='cookie')\n",
    "att.loc[att['conversion']==0, 'path'] = att.loc[att['conversion']==0, \n",
    "                                                'channel'].apply(lambda x: ['start']+x+['null'])\n",
    "att.loc[att['conversion']==1, 'path'] = att.loc[att['conversion']==1, \n",
    "                                                'channel'].apply(lambda x: ['start']+x+['conversion'])\n",
    "att = att[['cookie', 'path']]"
   ]
  },
  {
   "cell_type": "code",
   "execution_count": 78,
   "metadata": {},
   "outputs": [
    {
     "data": {
      "text/html": [
       "<div>\n",
       "<style scoped>\n",
       "    .dataframe tbody tr th:only-of-type {\n",
       "        vertical-align: middle;\n",
       "    }\n",
       "\n",
       "    .dataframe tbody tr th {\n",
       "        vertical-align: top;\n",
       "    }\n",
       "\n",
       "    .dataframe thead th {\n",
       "        text-align: right;\n",
       "    }\n",
       "</style>\n",
       "<table border=\"1\" class=\"dataframe\">\n",
       "  <thead>\n",
       "    <tr style=\"text-align: right;\">\n",
       "      <th></th>\n",
       "      <th>cookie</th>\n",
       "      <th>path</th>\n",
       "    </tr>\n",
       "  </thead>\n",
       "  <tbody>\n",
       "    <tr>\n",
       "      <th>0</th>\n",
       "      <td>00000FkCnDfDDf0iC97iC703B</td>\n",
       "      <td>[start, Instagram, Online Display, null]</td>\n",
       "    </tr>\n",
       "    <tr>\n",
       "      <th>1</th>\n",
       "      <td>0000nACkD9nFkBBDECD3ki00E</td>\n",
       "      <td>[start, Paid Search, null]</td>\n",
       "    </tr>\n",
       "    <tr>\n",
       "      <th>2</th>\n",
       "      <td>0003EfE37E93D0BC03iBhBBhF</td>\n",
       "      <td>[start, Paid Search, null]</td>\n",
       "    </tr>\n",
       "    <tr>\n",
       "      <th>3</th>\n",
       "      <td>00073CFE3FoFCn70fBhB3kfon</td>\n",
       "      <td>[start, Instagram, null]</td>\n",
       "    </tr>\n",
       "    <tr>\n",
       "      <th>4</th>\n",
       "      <td>00079hhBkDF3k3kDkiFi9EFAD</td>\n",
       "      <td>[start, Paid Search, null]</td>\n",
       "    </tr>\n",
       "    <tr>\n",
       "      <th>...</th>\n",
       "      <td>...</td>\n",
       "      <td>...</td>\n",
       "    </tr>\n",
       "    <tr>\n",
       "      <th>240103</th>\n",
       "      <td>ooooE0hkAFBkED90ChDDiBFAf</td>\n",
       "      <td>[start, Online Display, null]</td>\n",
       "    </tr>\n",
       "    <tr>\n",
       "      <th>240104</th>\n",
       "      <td>ooooEBE0o0D97ACAAAnDoi3F0</td>\n",
       "      <td>[start, Online Display, null]</td>\n",
       "    </tr>\n",
       "    <tr>\n",
       "      <th>240105</th>\n",
       "      <td>ooooEiB0CCoEf9fiiC90Dfhfk</td>\n",
       "      <td>[start, Online Display, null]</td>\n",
       "    </tr>\n",
       "    <tr>\n",
       "      <th>240106</th>\n",
       "      <td>ooooiBh70D3k3BfAhDFfii9h7</td>\n",
       "      <td>[start, Paid Search, Online Video, null]</td>\n",
       "    </tr>\n",
       "    <tr>\n",
       "      <th>240107</th>\n",
       "      <td>ooooohAFofEnonEikhAi3fF9o</td>\n",
       "      <td>[start, Paid Search, null]</td>\n",
       "    </tr>\n",
       "  </tbody>\n",
       "</table>\n",
       "<p>240108 rows × 2 columns</p>\n",
       "</div>"
      ],
      "text/plain": [
       "                           cookie                                      path\n",
       "0       00000FkCnDfDDf0iC97iC703B  [start, Instagram, Online Display, null]\n",
       "1       0000nACkD9nFkBBDECD3ki00E                [start, Paid Search, null]\n",
       "2       0003EfE37E93D0BC03iBhBBhF                [start, Paid Search, null]\n",
       "3       00073CFE3FoFCn70fBhB3kfon                  [start, Instagram, null]\n",
       "4       00079hhBkDF3k3kDkiFi9EFAD                [start, Paid Search, null]\n",
       "...                           ...                                       ...\n",
       "240103  ooooE0hkAFBkED90ChDDiBFAf             [start, Online Display, null]\n",
       "240104  ooooEBE0o0D97ACAAAnDoi3F0             [start, Online Display, null]\n",
       "240105  ooooEiB0CCoEf9fiiC90Dfhfk             [start, Online Display, null]\n",
       "240106  ooooiBh70D3k3BfAhDFfii9h7  [start, Paid Search, Online Video, null]\n",
       "240107  ooooohAFofEnonEikhAi3fF9o                [start, Paid Search, null]\n",
       "\n",
       "[240108 rows x 2 columns]"
      ]
     },
     "execution_count": 78,
     "metadata": {},
     "output_type": "execute_result"
    }
   ],
   "source": [
    "att"
   ]
  },
  {
   "cell_type": "markdown",
   "metadata": {},
   "source": [
    "#### Markov Chains"
   ]
  },
  {
   "cell_type": "code",
   "execution_count": 86,
   "metadata": {},
   "outputs": [
    {
     "data": {
      "text/plain": [
       "0.07346277508454528"
      ]
     },
     "execution_count": 86,
     "metadata": {},
     "output_type": "execute_result"
    }
   ],
   "source": [
    "total_conversions = sum(path.count('conversion') for path in att['path'])\n",
    "base_conversion_rate = total_conversions/len(att['path'])\n",
    "base_conversion_rate"
   ]
  },
  {
   "cell_type": "code",
   "execution_count": 113,
   "metadata": {},
   "outputs": [
    {
     "data": {
      "text/plain": [
       "{'Facebook',\n",
       " 'Instagram',\n",
       " 'Online Display',\n",
       " 'Online Video',\n",
       " 'Paid Search',\n",
       " 'conversion',\n",
       " 'null',\n",
       " 'start'}"
      ]
     },
     "execution_count": 113,
     "metadata": {},
     "output_type": "execute_result"
    }
   ],
   "source": [
    "unique_channels = set(chan for path in att['path'] for chan in path)\n",
    "unique_channels"
   ]
  },
  {
   "cell_type": "code",
   "execution_count": 120,
   "metadata": {},
   "outputs": [],
   "source": [
    "def transition_states(paths):\n",
    "    unique_channels = set(chan for path in paths for chan in path)\n",
    "    trans_states = {x + '>' + y: 0 for x in unique_channels for y in unique_channels}\n",
    "    \n",
    "    for possible_state in unique_channels:\n",
    "        if possible_state not in ['conversion', 'null']:\n",
    "            for path in paths:\n",
    "                if possible_state in path:\n",
    "                    indices = [ind for ind, state in enumerate(path) if possible_state in state]\n",
    "                    for col in indices:\n",
    "                        trans_states[path[col]+'>'+path[col+1]] += 1\n",
    "    return trans_states"
   ]
  },
  {
   "cell_type": "code",
   "execution_count": 124,
   "metadata": {},
   "outputs": [],
   "source": [
    "trans_states = transition_states(att['path'])"
   ]
  },
  {
   "cell_type": "code",
   "execution_count": 123,
   "metadata": {},
   "outputs": [],
   "source": [
    "def transition_prob(trans_states, paths):\n",
    "    unique_channels = set(chan for path in paths for chan in path)\n",
    "    trans_prob = defaultdict(dict)\n",
    "    for channel in unique_channels:\n",
    "        if channel not in ['conversion', 'null']:\n",
    "            counter = 0\n",
    "            index = [ind for ind, state in enumerate(trans_states) if channel + '>' in state]\n",
    "            for col in index:\n",
    "                if trans_states[list(trans_states)[col]] > 0:\n",
    "                    counter += trans_states[list(trans_states)[col]]\n",
    "            for col in index:\n",
    "                if trans_states[list(trans_states)[col]] > 0:\n",
    "                    state_prob = float((trans_states[list(trans_states)[col]]))/float(counter)\n",
    "                    trans_prob[list(trans_states)[col]] = state_prob\n",
    "    return trans_prob"
   ]
  },
  {
   "cell_type": "code",
   "execution_count": 127,
   "metadata": {},
   "outputs": [],
   "source": [
    "trans_prob = transition_prob(trans_states, att['path'])"
   ]
  },
  {
   "cell_type": "code",
   "execution_count": 138,
   "metadata": {},
   "outputs": [],
   "source": [
    "def transition_matrix(trans_prob, paths):\n",
    "    trans_matrix = pd.DataFrame()\n",
    "    channels = set(chan for path in paths for chan in path)\n",
    "    \n",
    "    for channel in channels:\n",
    "        trans_matrix[channel] = 0.0\n",
    "        trans_matrix.loc[channel] = 0.0\n",
    "        trans_matrix.loc[channel][channel] = 1.0 if channel in ['conversion', 'null'] else 0.0\n",
    "    \n",
    "    for key, value in trans_prob.items():\n",
    "        origin, destination = key.split(\">\")\n",
    "        trans_matrix.at[origin, destination] = value\n",
    "        \n",
    "    return trans_matrix"
   ]
  },
  {
   "cell_type": "code",
   "execution_count": 140,
   "metadata": {},
   "outputs": [],
   "source": [
    "trans_matrix = transition_matrix(trans_prob, att['path'])"
   ]
  },
  {
   "cell_type": "code",
   "execution_count": 143,
   "metadata": {},
   "outputs": [
    {
     "data": {
      "text/html": [
       "<div>\n",
       "<style scoped>\n",
       "    .dataframe tbody tr th:only-of-type {\n",
       "        vertical-align: middle;\n",
       "    }\n",
       "\n",
       "    .dataframe tbody tr th {\n",
       "        vertical-align: top;\n",
       "    }\n",
       "\n",
       "    .dataframe thead th {\n",
       "        text-align: right;\n",
       "    }\n",
       "</style>\n",
       "<table border=\"1\" class=\"dataframe\">\n",
       "  <thead>\n",
       "    <tr style=\"text-align: right;\">\n",
       "      <th></th>\n",
       "      <th>Online Video</th>\n",
       "      <th>conversion</th>\n",
       "      <th>Paid Search</th>\n",
       "      <th>Facebook</th>\n",
       "      <th>Instagram</th>\n",
       "      <th>start</th>\n",
       "      <th>Online Display</th>\n",
       "      <th>null</th>\n",
       "    </tr>\n",
       "  </thead>\n",
       "  <tbody>\n",
       "    <tr>\n",
       "      <th>Online Video</th>\n",
       "      <td>0.000000</td>\n",
       "      <td>0.078146</td>\n",
       "      <td>0.047947</td>\n",
       "      <td>0.059323</td>\n",
       "      <td>0.031908</td>\n",
       "      <td>0.0</td>\n",
       "      <td>0.018920</td>\n",
       "      <td>0.763757</td>\n",
       "    </tr>\n",
       "    <tr>\n",
       "      <th>conversion</th>\n",
       "      <td>0.000000</td>\n",
       "      <td>1.000000</td>\n",
       "      <td>0.000000</td>\n",
       "      <td>0.000000</td>\n",
       "      <td>0.000000</td>\n",
       "      <td>0.0</td>\n",
       "      <td>0.000000</td>\n",
       "      <td>0.000000</td>\n",
       "    </tr>\n",
       "    <tr>\n",
       "      <th>Paid Search</th>\n",
       "      <td>0.029221</td>\n",
       "      <td>0.053309</td>\n",
       "      <td>0.000000</td>\n",
       "      <td>0.064442</td>\n",
       "      <td>0.034196</td>\n",
       "      <td>0.0</td>\n",
       "      <td>0.048053</td>\n",
       "      <td>0.770779</td>\n",
       "    </tr>\n",
       "    <tr>\n",
       "      <th>Facebook</th>\n",
       "      <td>0.025577</td>\n",
       "      <td>0.053220</td>\n",
       "      <td>0.050655</td>\n",
       "      <td>0.000000</td>\n",
       "      <td>0.173072</td>\n",
       "      <td>0.0</td>\n",
       "      <td>0.024352</td>\n",
       "      <td>0.673123</td>\n",
       "    </tr>\n",
       "    <tr>\n",
       "      <th>Instagram</th>\n",
       "      <td>0.024118</td>\n",
       "      <td>0.057979</td>\n",
       "      <td>0.045809</td>\n",
       "      <td>0.218777</td>\n",
       "      <td>0.000000</td>\n",
       "      <td>0.0</td>\n",
       "      <td>0.023531</td>\n",
       "      <td>0.629786</td>\n",
       "    </tr>\n",
       "    <tr>\n",
       "      <th>start</th>\n",
       "      <td>0.142361</td>\n",
       "      <td>0.000000</td>\n",
       "      <td>0.317399</td>\n",
       "      <td>0.278408</td>\n",
       "      <td>0.119188</td>\n",
       "      <td>0.0</td>\n",
       "      <td>0.142644</td>\n",
       "      <td>0.000000</td>\n",
       "    </tr>\n",
       "    <tr>\n",
       "      <th>Online Display</th>\n",
       "      <td>0.017299</td>\n",
       "      <td>0.050324</td>\n",
       "      <td>0.092386</td>\n",
       "      <td>0.053986</td>\n",
       "      <td>0.029363</td>\n",
       "      <td>0.0</td>\n",
       "      <td>0.000000</td>\n",
       "      <td>0.756643</td>\n",
       "    </tr>\n",
       "    <tr>\n",
       "      <th>null</th>\n",
       "      <td>0.000000</td>\n",
       "      <td>0.000000</td>\n",
       "      <td>0.000000</td>\n",
       "      <td>0.000000</td>\n",
       "      <td>0.000000</td>\n",
       "      <td>0.0</td>\n",
       "      <td>0.000000</td>\n",
       "      <td>1.000000</td>\n",
       "    </tr>\n",
       "  </tbody>\n",
       "</table>\n",
       "</div>"
      ],
      "text/plain": [
       "                Online Video  conversion  Paid Search  Facebook  Instagram  \\\n",
       "Online Video        0.000000    0.078146     0.047947  0.059323   0.031908   \n",
       "conversion          0.000000    1.000000     0.000000  0.000000   0.000000   \n",
       "Paid Search         0.029221    0.053309     0.000000  0.064442   0.034196   \n",
       "Facebook            0.025577    0.053220     0.050655  0.000000   0.173072   \n",
       "Instagram           0.024118    0.057979     0.045809  0.218777   0.000000   \n",
       "start               0.142361    0.000000     0.317399  0.278408   0.119188   \n",
       "Online Display      0.017299    0.050324     0.092386  0.053986   0.029363   \n",
       "null                0.000000    0.000000     0.000000  0.000000   0.000000   \n",
       "\n",
       "                start  Online Display      null  \n",
       "Online Video      0.0        0.018920  0.763757  \n",
       "conversion        0.0        0.000000  0.000000  \n",
       "Paid Search       0.0        0.048053  0.770779  \n",
       "Facebook          0.0        0.024352  0.673123  \n",
       "Instagram         0.0        0.023531  0.629786  \n",
       "start             0.0        0.142644  0.000000  \n",
       "Online Display    0.0        0.000000  0.756643  \n",
       "null              0.0        0.000000  1.000000  "
      ]
     },
     "execution_count": 143,
     "metadata": {},
     "output_type": "execute_result"
    }
   ],
   "source": [
    "trans_matrix"
   ]
  },
  {
   "cell_type": "code",
   "execution_count": 311,
   "metadata": {},
   "outputs": [],
   "source": [
    "def removal_effects(trans_matrix, conversion_rate):\n",
    "    removal_effect = dict()\n",
    "    channels = [channel for channel in trans_matrix.columns if channel not in ['start', 'null', 'conversion']]\n",
    "    \n",
    "    for channel in channels:\n",
    "        removal = trans_matrix.drop(channel, axis=1).drop(channel, axis=0)\n",
    "\n",
    "        for col in removal.columns:\n",
    "            \n",
    "            row_sum = np.sum(list(removal.loc[col]))\n",
    "            null_prob = 1.0 - row_sum \n",
    "            if null_prob != 0.0:\n",
    "                removal.loc[col]['null'] = null_prob\n",
    "            removal.loc['null']['null'] = 1.0\n",
    "        \n",
    "        removal_conversion = removal[['null', \n",
    "                                      'conversion']].drop(['null', \n",
    "                                                        'conversion'], axis=0) # 0 for rows and 1 for columns\n",
    "        removal_non_conversion = removal.drop(['null', 'conversion'], \n",
    "                                              axis=1).drop(['null', 'conversion'], axis=0)\n",
    "        \n",
    "        # absorbing markov chains \n",
    "        # the probability of ending up in the state corresponding to the column\n",
    "        # probabilities of being absorbed in the absorbing state given starting from the transient state\n",
    "        removal_inv = np.linalg.inv(np.identity(len(removal_non_conversion.index))-np.asarray(removal_non_conversion))\n",
    "        removal_dot_prod = np.dot(removal_inv, np.asarray(removal_conversion))\n",
    "        removal_convers = pd.DataFrame(removal_dot_prod, index=removal_conversion.index)[[1]].loc['start'].values[0]\n",
    "        # from other four channels to conversion\n",
    "        removal_effect[channel] = 1.0 - removal_convers/conversion_rate\n",
    "    return removal_effect"
   ]
  },
  {
   "cell_type": "code",
   "execution_count": 309,
   "metadata": {},
   "outputs": [
    {
     "name": "stdout",
     "output_type": "stream",
     "text": [
      "0.058262289878143476\n",
      "0.04913897432723621\n",
      "0.047401138081651153\n",
      "0.057498310447678155\n",
      "0.062123441398112\n"
     ]
    },
    {
     "data": {
      "text/plain": [
       "{'Online Video': 0.2069141165564219,\n",
       " 'Paid Search': 0.3311037560086154,\n",
       " 'Facebook': 0.3547597674182722,\n",
       " 'Instagram': 0.21731366149038456,\n",
       " 'Online Display': 0.15435482356041286}"
      ]
     },
     "execution_count": 309,
     "metadata": {},
     "output_type": "execute_result"
    }
   ],
   "source": [
    "removal_effect = removal_effects(trans_matrix, base_conversion_rate)\n",
    "removal_effect"
   ]
  },
  {
   "cell_type": "code",
   "execution_count": 301,
   "metadata": {},
   "outputs": [],
   "source": [
    "def markov_chain_allocations(removal_effect, total_conversion):\n",
    "    removal_sum = np.sum(list(removal_effect.values()))\n",
    "    return {k: (v/removal_sum)*total_conversion for k,v in removal_effect.items()}"
   ]
  },
  {
   "cell_type": "code",
   "execution_count": 258,
   "metadata": {},
   "outputs": [
    {
     "data": {
      "text/plain": [
       "17639"
      ]
     },
     "execution_count": 258,
     "metadata": {},
     "output_type": "execute_result"
    }
   ],
   "source": [
    "total_conversions "
   ]
  },
  {
   "cell_type": "code",
   "execution_count": 261,
   "metadata": {},
   "outputs": [
    {
     "data": {
      "text/plain": [
       "{'Online Video': 2886.448089546146,\n",
       " 'Paid Search': 4618.891257291354,\n",
       " 'Facebook': 4948.892177847523,\n",
       " 'Instagram': 3031.521548555892,\n",
       " 'Online Display': 2153.246926759083}"
      ]
     },
     "execution_count": 261,
     "metadata": {},
     "output_type": "execute_result"
    }
   ],
   "source": [
    "markov_chain_allocation = markov_chain_allocations(removal_effect, total_conversions)\n",
    "markov_chain_allocation"
   ]
  },
  {
   "cell_type": "code",
   "execution_count": 284,
   "metadata": {},
   "outputs": [
    {
     "data": {
      "image/png": "[encoded data removed]",
      "text/plain": [
       "<Figure size 576x360 with 1 Axes>"
      ]
     },
     "metadata": {
      "needs_background": "light"
     },
     "output_type": "display_data"
    }
   ],
   "source": [
    "markov_chain = pd.DataFrame(list(markov_chain_allocation.items()), columns=['channel', 'attribution'])\n",
    "fig, ax = plt.subplots(figsize=(8, 5))\n",
    "ax = sns.barplot(x=\"channel\", y=\"attribution\", data=markov_chain, estimator=np.median, palette='rocket')\n",
    "plt.title('Attributed Value Across Channels', fontsize=16)\n",
    "plt.show()"
   ]
  },
  {
   "cell_type": "markdown",
   "metadata": {},
   "source": [
    "Facebook has the highest attributed value out of five channels."
   ]
  },
  {
   "cell_type": "markdown",
   "metadata": {},
   "source": [
    "#### Reference "
   ]
  },
  {
   "cell_type": "markdown",
   "metadata": {},
   "source": [
    "https://towardsdatascience.com/marketing-channel-attribution-with-markov-chains-in-python-part-2-the-complete-walkthrough-733c65b23323"
   ]
  },
  {
   "cell_type": "code",
   "execution_count": null,
   "metadata": {},
   "outputs": [],
   "source": []
  }
 ],
 "metadata": {
  "kernelspec": {
   "display_name": "Python 3",
   "language": "python",
   "name": "python3"
  },
  "language_info": {
   "codemirror_mode": {
    "name": "ipython",
    "version": 3
   },
   "file_extension": ".py",
   "mimetype": "text/x-python",
   "name": "python",
   "nbconvert_exporter": "python",
   "pygments_lexer": "ipython3",
   "version": "3.7.3"
  },
  "varInspector": {
   "cols": {
    "lenName": 16,
    "lenType": 16,
    "lenVar": 40
   },
   "kernels_config": {
    "python": {
     "delete_cmd_postfix": "",
     "delete_cmd_prefix": "del ",
     "library": "var_list.py",
     "varRefreshCmd": "print(var_dic_list())"
    },
    "r": {
     "delete_cmd_postfix": ") ",
     "delete_cmd_prefix": "rm(",
     "library": "var_list.r",
     "varRefreshCmd": "cat(var_dic_list()) "
    }
   },
   "types_to_exclude": [
    "module",
    "function",
    "builtin_function_or_method",
    "instance",
    "_Feature"
   ],
   "window_display": false
  }
 },
 "nbformat": 4,
 "nbformat_minor": 2
}
