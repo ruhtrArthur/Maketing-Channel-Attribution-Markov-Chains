{
 "cells": [
  {
   "cell_type": "code",
   "execution_count": 134,
   "metadata": {},
   "outputs": [],
   "source": [
    "import pandas as pd\n",
    "import numpy as np\n",
    "import seaborn as sns\n",
    "import matplotlib.pyplot as plt\n",
    "import subprocess"
   ]
  },
  {
   "cell_type": "code",
   "execution_count": 37,
   "metadata": {},
   "outputs": [],
   "source": [
    "channel = pd.read_csv(\"Channel_attribution.csv\")"
   ]
  },
  {
   "cell_type": "code",
   "execution_count": 38,
   "metadata": {},
   "outputs": [],
   "source": [
    "for col in channel.columns:\n",
    "    channel[col] = channel[col].astype(str)\n",
    "    channel[col] = channel[col].map(lambda x: str(x)[:-2] if \".\" in x else str(x))\n",
    "    \n",
    "channel['Path'] = ''\n",
    "for ind in channel.index:\n",
    "    for col in channel.columns:\n",
    "        channel.at[ind, 'Path'] = channel.at[ind, 'Path'] + channel.at[ind, col] + ' > '\n",
    "\n",
    "# channel 21 is the conversion event, which needs to be separated from the path\n",
    "# will create a separate conversion column for channel 21\n",
    "channel['Path'] = channel['Path'].map(lambda x: x.split('> 21')[0])\n",
    "channel['Conversion'] = 1"
   ]
  },
  {
   "cell_type": "code",
   "execution_count": 39,
   "metadata": {},
   "outputs": [],
   "source": [
    "channel_path_conversion = channel[['Path', 'Conversion']].groupby('Path').sum().reset_index()\n",
    "channel_path_conversion.to_csv('Paths.csv', index=False)"
   ]
  },
  {
   "cell_type": "markdown",
   "metadata": {},
   "source": [
    "#### Markov Chains"
   ]
  },
  {
   "cell_type": "code",
   "execution_count": 40,
   "metadata": {},
   "outputs": [
    {
     "name": "stdout",
     "output_type": "stream",
     "text": [
      "The rpy2.ipython extension is already loaded. To reload it, use:\n",
      "  %reload_ext rpy2.ipython\n"
     ]
    }
   ],
   "source": [
    "%load_ext rpy2.ipython"
   ]
  },
  {
   "cell_type": "code",
   "execution_count": 42,
   "metadata": {},
   "outputs": [],
   "source": [
    "# %R install.packages(\"ChannelAttribution\", repos = \"http://cran.us.r-project.org\")"
   ]
  },
  {
   "cell_type": "code",
   "execution_count": 44,
   "metadata": {},
   "outputs": [
    {
     "data": {
      "text/plain": [
       "array(['ChannelAttribution', 'tools', 'stats', 'graphics', 'grDevices',\n",
       "       'utils', 'datasets', 'methods', 'base'], dtype='<U18')"
      ]
     },
     "execution_count": 44,
     "metadata": {},
     "output_type": "execute_result"
    }
   ],
   "source": [
    "%R library(ChannelAttribution)"
   ]
  },
  {
   "cell_type": "code",
   "execution_count": 45,
   "metadata": {},
   "outputs": [],
   "source": [
    "%%R library(ChannelAttribution)\n",
    "\n",
    "setwd <- setwd('/Users/arthurqin/Documents/Marketing-Channel-Attribution-Markov-Chains/')\n",
    "# Read in our CSV file outputted by the python script\n",
    "df <- read.csv('Paths.csv')\n",
    "df <- df[c(1,2)]\n",
    "# Run the Markov Model function\n",
    "markov <- markov_model(df, 'Path', var_value = 'Conversion', var_conv = 'Conversion', sep = '>', order=1, out_more = TRUE)\n",
    "# Output the model output as a csv file, to be read back into Python\n",
    "write.csv(markov$result, file = \"Markov-Output-Conversion-Values.csv\", row.names=FALSE)\n",
    "# Output the transition matrix as well, for visualization purposes\n",
    "write.csv(markov$transition_matrix, file = \"Markov-Output-Transition-Matrix.csv\", row.names=FALSE)\n"
   ]
  },
  {
   "cell_type": "code",
   "execution_count": 91,
   "metadata": {},
   "outputs": [
    {
     "data": {
      "text/html": [
       "<div>\n",
       "<style scoped>\n",
       "    .dataframe tbody tr th:only-of-type {\n",
       "        vertical-align: middle;\n",
       "    }\n",
       "\n",
       "    .dataframe tbody tr th {\n",
       "        vertical-align: top;\n",
       "    }\n",
       "\n",
       "    .dataframe thead th {\n",
       "        text-align: right;\n",
       "    }\n",
       "</style>\n",
       "<table border=\"1\" class=\"dataframe\">\n",
       "  <thead>\n",
       "    <tr style=\"text-align: right;\">\n",
       "      <th></th>\n",
       "      <th>channel</th>\n",
       "      <th>attribution</th>\n",
       "      <th>conversion</th>\n",
       "    </tr>\n",
       "  </thead>\n",
       "  <tbody>\n",
       "    <tr>\n",
       "      <th>0</th>\n",
       "      <td>1</td>\n",
       "      <td>markov chains</td>\n",
       "      <td>81.957821</td>\n",
       "    </tr>\n",
       "    <tr>\n",
       "      <th>1</th>\n",
       "      <td>20</td>\n",
       "      <td>markov chains</td>\n",
       "      <td>437.522158</td>\n",
       "    </tr>\n",
       "    <tr>\n",
       "      <th>2</th>\n",
       "      <td>12</td>\n",
       "      <td>markov chains</td>\n",
       "      <td>83.096116</td>\n",
       "    </tr>\n",
       "  </tbody>\n",
       "</table>\n",
       "</div>"
      ],
      "text/plain": [
       "   channel    attribution  conversion\n",
       "0        1  markov chains   81.957821\n",
       "1       20  markov chains  437.522158\n",
       "2       12  markov chains   83.096116"
      ]
     },
     "execution_count": 91,
     "metadata": {},
     "output_type": "execute_result"
    }
   ],
   "source": [
    "markov = pd.read_csv('Markov-Output-Conversion-Values.csv')\n",
    "markov['attribution'] = 'markov chains'\n",
    "markov['conversion'] = markov['total_conversions']\n",
    "markov_chains = markov.drop(columns=['total_conversions', 'total_conversion_value'])\n",
    "markov_chains.columns = ['channel', 'attribution', 'conversion']\n",
    "markov_chains.head(3)"
   ]
  },
  {
   "cell_type": "markdown",
   "metadata": {},
   "source": [
    "#### First Touch Attribution"
   ]
  },
  {
   "cell_type": "code",
   "execution_count": 53,
   "metadata": {},
   "outputs": [
    {
     "data": {
      "text/html": [
       "<div>\n",
       "<style scoped>\n",
       "    .dataframe tbody tr th:only-of-type {\n",
       "        vertical-align: middle;\n",
       "    }\n",
       "\n",
       "    .dataframe tbody tr th {\n",
       "        vertical-align: top;\n",
       "    }\n",
       "\n",
       "    .dataframe thead th {\n",
       "        text-align: right;\n",
       "    }\n",
       "</style>\n",
       "<table border=\"1\" class=\"dataframe\">\n",
       "  <thead>\n",
       "    <tr style=\"text-align: right;\">\n",
       "      <th></th>\n",
       "      <th>channel</th>\n",
       "      <th>attribution</th>\n",
       "      <th>conversion</th>\n",
       "    </tr>\n",
       "  </thead>\n",
       "  <tbody>\n",
       "    <tr>\n",
       "      <th>0</th>\n",
       "      <td>1</td>\n",
       "      <td>first touch</td>\n",
       "      <td>130</td>\n",
       "    </tr>\n",
       "    <tr>\n",
       "      <th>1</th>\n",
       "      <td>10</td>\n",
       "      <td>first touch</td>\n",
       "      <td>547</td>\n",
       "    </tr>\n",
       "    <tr>\n",
       "      <th>2</th>\n",
       "      <td>11</td>\n",
       "      <td>first touch</td>\n",
       "      <td>66</td>\n",
       "    </tr>\n",
       "  </tbody>\n",
       "</table>\n",
       "</div>"
      ],
      "text/plain": [
       "  channel  attribution  conversion\n",
       "0      1   first touch         130\n",
       "1     10   first touch         547\n",
       "2     11   first touch          66"
      ]
     },
     "execution_count": 53,
     "metadata": {},
     "output_type": "execute_result"
    }
   ],
   "source": [
    "channel['first_touch'] = channel['Path'].map(lambda x: x.split('>')[0])\n",
    "channel_first_touch = pd.DataFrame()\n",
    "channel_first_touch['channel'] = channel['first_touch']\n",
    "channel_first_touch['attribution'] = 'first touch'\n",
    "channel_first_touch['conversion'] = 1\n",
    "channel_first_touch = channel_first_touch.groupby(['channel', 'attribution']).sum().reset_index()\n",
    "channel_first_touch.head(3)"
   ]
  },
  {
   "cell_type": "markdown",
   "metadata": {},
   "source": [
    "#### Last Touch Attribution"
   ]
  },
  {
   "cell_type": "code",
   "execution_count": 54,
   "metadata": {},
   "outputs": [
    {
     "data": {
      "text/html": [
       "<div>\n",
       "<style scoped>\n",
       "    .dataframe tbody tr th:only-of-type {\n",
       "        vertical-align: middle;\n",
       "    }\n",
       "\n",
       "    .dataframe tbody tr th {\n",
       "        vertical-align: top;\n",
       "    }\n",
       "\n",
       "    .dataframe thead th {\n",
       "        text-align: right;\n",
       "    }\n",
       "</style>\n",
       "<table border=\"1\" class=\"dataframe\">\n",
       "  <thead>\n",
       "    <tr style=\"text-align: right;\">\n",
       "      <th></th>\n",
       "      <th>channel</th>\n",
       "      <th>attribution</th>\n",
       "      <th>conversion</th>\n",
       "    </tr>\n",
       "  </thead>\n",
       "  <tbody>\n",
       "    <tr>\n",
       "      <th>0</th>\n",
       "      <td>1</td>\n",
       "      <td>last touch</td>\n",
       "      <td>18</td>\n",
       "    </tr>\n",
       "    <tr>\n",
       "      <th>1</th>\n",
       "      <td>10</td>\n",
       "      <td>last touch</td>\n",
       "      <td>42</td>\n",
       "    </tr>\n",
       "    <tr>\n",
       "      <th>2</th>\n",
       "      <td>11</td>\n",
       "      <td>last touch</td>\n",
       "      <td>33</td>\n",
       "    </tr>\n",
       "  </tbody>\n",
       "</table>\n",
       "</div>"
      ],
      "text/plain": [
       "  channel attribution  conversion\n",
       "0      1   last touch          18\n",
       "1     10   last touch          42\n",
       "2     11   last touch          33"
      ]
     },
     "execution_count": 54,
     "metadata": {},
     "output_type": "execute_result"
    }
   ],
   "source": [
    "channel['last_touch'] = channel['Path'].map(lambda x: x.split('>')[-1])\n",
    "channel_last_touch = pd.DataFrame()\n",
    "channel_last_touch['channel'] = channel['last_touch']\n",
    "channel_last_touch['attribution'] = 'last touch'\n",
    "channel_last_touch['conversion'] = 1\n",
    "channel_last_touch = channel_last_touch.groupby(['channel', 'attribution']).sum().reset_index()\n",
    "channel_last_touch.head(3)"
   ]
  },
  {
   "cell_type": "markdown",
   "metadata": {},
   "source": [
    "#### Linear Attribution"
   ]
  },
  {
   "cell_type": "code",
   "execution_count": 82,
   "metadata": {},
   "outputs": [
    {
     "data": {
      "text/html": [
       "<div>\n",
       "<style scoped>\n",
       "    .dataframe tbody tr th:only-of-type {\n",
       "        vertical-align: middle;\n",
       "    }\n",
       "\n",
       "    .dataframe tbody tr th {\n",
       "        vertical-align: top;\n",
       "    }\n",
       "\n",
       "    .dataframe thead th {\n",
       "        text-align: right;\n",
       "    }\n",
       "</style>\n",
       "<table border=\"1\" class=\"dataframe\">\n",
       "  <thead>\n",
       "    <tr style=\"text-align: right;\">\n",
       "      <th></th>\n",
       "      <th>channel</th>\n",
       "      <th>attribution</th>\n",
       "      <th>conversion</th>\n",
       "    </tr>\n",
       "  </thead>\n",
       "  <tbody>\n",
       "    <tr>\n",
       "      <th>0</th>\n",
       "      <td>1</td>\n",
       "      <td>linear</td>\n",
       "      <td>43.006911</td>\n",
       "    </tr>\n",
       "    <tr>\n",
       "      <th>1</th>\n",
       "      <td>10</td>\n",
       "      <td>linear</td>\n",
       "      <td>89.530396</td>\n",
       "    </tr>\n",
       "    <tr>\n",
       "      <th>2</th>\n",
       "      <td>11</td>\n",
       "      <td>linear</td>\n",
       "      <td>87.861429</td>\n",
       "    </tr>\n",
       "  </tbody>\n",
       "</table>\n",
       "</div>"
      ],
      "text/plain": [
       "  channel attribution  conversion\n",
       "0      1       linear   43.006911\n",
       "1     10       linear   89.530396\n",
       "2     11       linear   87.861429"
      ]
     },
     "execution_count": 82,
     "metadata": {},
     "output_type": "execute_result"
    }
   ],
   "source": [
    "chan = []\n",
    "conversion = []\n",
    "for ind in channel.index:\n",
    "    for path in channel.at[ind, 'Path'].split('>'):\n",
    "        chan.append(path)\n",
    "        conversion.append(1/len(channel.at[ind, 'Path'].split(\">\")))\n",
    "channel_linear = pd.DataFrame()\n",
    "channel_linear['channel'] = chan\n",
    "channel_linear['attribution'] = 'linear'\n",
    "channel_linear['conversion'] = conversion\n",
    "channel_linear = channel_linear.groupby(['channel','attribution']).sum().reset_index()\n",
    "channel_linear.head(3)"
   ]
  },
  {
   "cell_type": "code",
   "execution_count": 96,
   "metadata": {},
   "outputs": [
    {
     "data": {
      "text/html": [
       "<div>\n",
       "<style scoped>\n",
       "    .dataframe tbody tr th:only-of-type {\n",
       "        vertical-align: middle;\n",
       "    }\n",
       "\n",
       "    .dataframe tbody tr th {\n",
       "        vertical-align: top;\n",
       "    }\n",
       "\n",
       "    .dataframe thead th {\n",
       "        text-align: right;\n",
       "    }\n",
       "</style>\n",
       "<table border=\"1\" class=\"dataframe\">\n",
       "  <thead>\n",
       "    <tr style=\"text-align: right;\">\n",
       "      <th></th>\n",
       "      <th>channel</th>\n",
       "      <th>attribution</th>\n",
       "      <th>conversion</th>\n",
       "    </tr>\n",
       "  </thead>\n",
       "  <tbody>\n",
       "    <tr>\n",
       "      <th>0</th>\n",
       "      <td>1</td>\n",
       "      <td>first touch</td>\n",
       "      <td>130.000000</td>\n",
       "    </tr>\n",
       "    <tr>\n",
       "      <th>1</th>\n",
       "      <td>1</td>\n",
       "      <td>linear</td>\n",
       "      <td>30.766750</td>\n",
       "    </tr>\n",
       "    <tr>\n",
       "      <th>2</th>\n",
       "      <td>1</td>\n",
       "      <td>markov chains</td>\n",
       "      <td>81.957821</td>\n",
       "    </tr>\n",
       "  </tbody>\n",
       "</table>\n",
       "</div>"
      ],
      "text/plain": [
       "   channel    attribution  conversion\n",
       "0        1    first touch  130.000000\n",
       "1        1         linear   30.766750\n",
       "2        1  markov chains   81.957821"
      ]
     },
     "execution_count": 96,
     "metadata": {},
     "output_type": "execute_result"
    }
   ],
   "source": [
    "channel_total = pd.concat([channel_first_touch, channel_last_touch, channel_linear, markov_chains])\n",
    "channel_total['channel'] = channel_total['channel'].astype(int)\n",
    "channel_total = channel_total.sort_values(by=['channel'], ascending=True).reset_index().drop(columns=['index'])\n",
    "channel_total.head(3)"
   ]
  },
  {
   "cell_type": "code",
   "execution_count": 108,
   "metadata": {},
   "outputs": [
    {
     "data": {
      "image/png": "[encoded data removed]",
      "text/plain": [
       "<Figure size 936x720 with 1 Axes>"
      ]
     },
     "metadata": {},
     "output_type": "display_data"
    }
   ],
   "source": [
    "# Visualize the attributions\n",
    "sns.set_style(\"whitegrid\")\n",
    "plt.rc('legend', fontsize=16)\n",
    "fig, ax = plt.subplots(figsize=(13, 10))\n",
    "sns.barplot(x='channel', y='conversion', hue='attribution', data=channel_total, palette=\"rocket\")\n",
    "plt.title('Channel Contributions Across All Approaches', fontsize=20)\n",
    "plt.show()"
   ]
  },
  {
   "cell_type": "markdown",
   "metadata": {},
   "source": [
    "### Transition Matrix"
   ]
  },
  {
   "cell_type": "code",
   "execution_count": 149,
   "metadata": {},
   "outputs": [
    {
     "data": {
      "text/html": [
       "<div>\n",
       "<style scoped>\n",
       "    .dataframe tbody tr th:only-of-type {\n",
       "        vertical-align: middle;\n",
       "    }\n",
       "\n",
       "    .dataframe tbody tr th {\n",
       "        vertical-align: top;\n",
       "    }\n",
       "\n",
       "    .dataframe thead th {\n",
       "        text-align: right;\n",
       "    }\n",
       "</style>\n",
       "<table border=\"1\" class=\"dataframe\">\n",
       "  <thead>\n",
       "    <tr style=\"text-align: right;\">\n",
       "      <th></th>\n",
       "      <th>channel_from</th>\n",
       "      <th>channel_to</th>\n",
       "      <th>transition_probability</th>\n",
       "    </tr>\n",
       "  </thead>\n",
       "  <tbody>\n",
       "    <tr>\n",
       "      <th>0</th>\n",
       "      <td>(start)</td>\n",
       "      <td>1</td>\n",
       "      <td>0.054348</td>\n",
       "    </tr>\n",
       "    <tr>\n",
       "      <th>1</th>\n",
       "      <td>(start)</td>\n",
       "      <td>10</td>\n",
       "      <td>0.228679</td>\n",
       "    </tr>\n",
       "    <tr>\n",
       "      <th>2</th>\n",
       "      <td>(start)</td>\n",
       "      <td>11</td>\n",
       "      <td>0.027592</td>\n",
       "    </tr>\n",
       "    <tr>\n",
       "      <th>3</th>\n",
       "      <td>(start)</td>\n",
       "      <td>12</td>\n",
       "      <td>0.031355</td>\n",
       "    </tr>\n",
       "    <tr>\n",
       "      <th>4</th>\n",
       "      <td>(start)</td>\n",
       "      <td>13</td>\n",
       "      <td>0.133779</td>\n",
       "    </tr>\n",
       "  </tbody>\n",
       "</table>\n",
       "</div>"
      ],
      "text/plain": [
       "  channel_from channel_to  transition_probability\n",
       "0      (start)          1                0.054348\n",
       "1      (start)         10                0.228679\n",
       "2      (start)         11                0.027592\n",
       "3      (start)         12                0.031355\n",
       "4      (start)         13                0.133779"
      ]
     },
     "execution_count": 149,
     "metadata": {},
     "output_type": "execute_result"
    }
   ],
   "source": [
    "transition = pd.read_csv('Markov-Output-Transition-Matrix.csv')\n",
    "transition.head()"
   ]
  },
  {
   "cell_type": "code",
   "execution_count": 166,
   "metadata": {},
   "outputs": [],
   "source": [
    "transition['transition_probability'] = transition['transition_probability'].astype(float)\n",
    "transition['channel_from'] = transition['channel_from'].replace('(start)', '0').astype(int)\n",
    "transition['channel_to'] = transition['channel_to'].replace('(conversion)', '21').astype(int)\n",
    "channels_from = np.sort(transition['channel_from'].unique())\n",
    "channels_to = np.sort(transition['channel_to'].unique())\n",
    "transition_matrix = pd.DataFrame(columns=channels_to, index=channels_from)\n",
    "\n",
    "for fr in channels_from:\n",
    "    for to in channels_to:\n",
    "        prob = transition.loc[(transition['channel_from']==fr)\n",
    "                              &(transition['channel_to']==to)]['transition_probability'].values\n",
    "        if len(prob) > 0:\n",
    "            transition_matrix.loc[fr][to] = prob[0]\n",
    "        else:\n",
    "            transition_matrix.loc[fr][to] = 0 \n",
    "\n",
    "transition_matrix = transition_matrix.rename(index={0:'start'}, columns={21:'conversion'})\n",
    "transition_matrix = transition_matrix.apply(pd.to_numeric)"
   ]
  },
  {
   "cell_type": "code",
   "execution_count": 182,
   "metadata": {},
   "outputs": [
    {
     "data": {
      "image/png": "[encoded data removed]",
      "text/plain": [
       "<Figure size 1008x576 with 2 Axes>"
      ]
     },
     "metadata": {},
     "output_type": "display_data"
    }
   ],
   "source": [
    "# Visualize this transition matrix in a heatmap\n",
    "sns.set_style(\"whitegrid\")\n",
    "fig, ax = plt.subplots(figsize=(14, 8))\n",
    "sns.heatmap(transition_matrix, cmap=\"Blues\")\n",
    "plt.title('Transition Probability Heatmap for Markov Chains', fontsize=18)\n",
    "plt.show()"
   ]
  },
  {
   "cell_type": "markdown",
   "metadata": {},
   "source": [
    "#### Reference"
   ]
  },
  {
   "cell_type": "markdown",
   "metadata": {},
   "source": [
    "https://medium.com/@mortenhegewald/marketing-channel-attribution-using-markov-chains-101-in-python-78fb181ebf1e"
   ]
  },
  {
   "cell_type": "code",
   "execution_count": null,
   "metadata": {},
   "outputs": [],
   "source": []
  }
 ],
 "metadata": {
  "kernelspec": {
   "display_name": "Python 3",
   "language": "python",
   "name": "python3"
  },
  "language_info": {
   "codemirror_mode": {
    "name": "ipython",
    "version": 3
   },
   "file_extension": ".py",
   "mimetype": "text/x-python",
   "name": "python",
   "nbconvert_exporter": "python",
   "pygments_lexer": "ipython3",
   "version": "3.7.3"
  },
  "varInspector": {
   "cols": {
    "lenName": 16,
    "lenType": 16,
    "lenVar": 40
   },
   "kernels_config": {
    "python": {
     "delete_cmd_postfix": "",
     "delete_cmd_prefix": "del ",
     "library": "var_list.py",
     "varRefreshCmd": "print(var_dic_list())"
    },
    "r": {
     "delete_cmd_postfix": ") ",
     "delete_cmd_prefix": "rm(",
     "library": "var_list.r",
     "varRefreshCmd": "cat(var_dic_list()) "
    }
   },
   "types_to_exclude": [
    "module",
    "function",
    "builtin_function_or_method",
    "instance",
    "_Feature"
   ],
   "window_display": false
  }
 },
 "nbformat": 4,
 "nbformat_minor": 2
}
